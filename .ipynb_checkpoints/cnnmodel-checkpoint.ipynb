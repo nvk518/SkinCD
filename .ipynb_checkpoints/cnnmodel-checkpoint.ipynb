{
 "cells": [
  {
   "cell_type": "code",
   "execution_count": 79,
   "metadata": {},
   "outputs": [],
   "source": [
    "import tensorflow as tf\n",
    "import os\n",
    "from tensorflow.keras.preprocessing.image import ImageDataGenerator\n",
    "# dataset used: https://www.kaggle.com/fanconic/skin-cancer-malignant-vs-benign\n",
    "\n",
    "from sklearn import svm, datasets\n",
    "from sklearn.metrics import roc_curve, auc\n",
    "from sklearn.model_selection import train_test_split\n",
    "from sklearn.preprocessing import label_binarize\n",
    "from sklearn.multiclass import OneVsRestClassifier\n",
    "from scipy import interp\n",
    "from sklearn.metrics import roc_auc_score\n",
    "\n",
    "import matplotlib.pyplot as plt\n"
   ]
  },
  {
   "cell_type": "code",
   "execution_count": 71,
   "metadata": {
    "scrolled": false
   },
   "outputs": [
    {
     "name": "stdout",
     "output_type": "stream",
     "text": [
      "Found 2637 images belonging to 2 classes.\n",
      "Found 660 images belonging to 2 classes.\n",
      "Model: \"sequential_18\"\n",
      "_________________________________________________________________\n",
      "Layer (type)                 Output Shape              Param #   \n",
      "=================================================================\n",
      "conv2d_98 (Conv2D)           (None, 218, 218, 16)      448       \n",
      "_________________________________________________________________\n",
      "max_pooling2d_98 (MaxPooling (None, 109, 109, 16)      0         \n",
      "_________________________________________________________________\n",
      "conv2d_99 (Conv2D)           (None, 107, 107, 32)      4640      \n",
      "_________________________________________________________________\n",
      "max_pooling2d_99 (MaxPooling (None, 53, 53, 32)        0         \n",
      "_________________________________________________________________\n",
      "conv2d_100 (Conv2D)          (None, 51, 51, 64)        18496     \n",
      "_________________________________________________________________\n",
      "max_pooling2d_100 (MaxPoolin (None, 25, 25, 64)        0         \n",
      "_________________________________________________________________\n",
      "conv2d_101 (Conv2D)          (None, 23, 23, 64)        36928     \n",
      "_________________________________________________________________\n",
      "max_pooling2d_101 (MaxPoolin (None, 11, 11, 64)        0         \n",
      "_________________________________________________________________\n",
      "conv2d_102 (Conv2D)          (None, 9, 9, 64)          36928     \n",
      "_________________________________________________________________\n",
      "max_pooling2d_102 (MaxPoolin (None, 4, 4, 64)          0         \n",
      "_________________________________________________________________\n",
      "flatten_18 (Flatten)         (None, 1024)              0         \n",
      "_________________________________________________________________\n",
      "dense_36 (Dense)             (None, 512)               524800    \n",
      "_________________________________________________________________\n",
      "dense_37 (Dense)             (None, 1)                 513       \n",
      "=================================================================\n",
      "Total params: 622,753\n",
      "Trainable params: 622,753\n",
      "Non-trainable params: 0\n",
      "_________________________________________________________________\n"
     ]
    }
   ],
   "source": [
    "train_datagen = ImageDataGenerator(rescale=1/255)\n",
    "validation_datagen = ImageDataGenerator(rescale=1/255)\n",
    "\n",
    "train_generator = train_datagen.flow_from_directory(\n",
    "        'skin/train/',\n",
    "        classes = ['benign', 'malignant'],\n",
    "        target_size=(200, 200),\n",
    "        batch_size=329,\n",
    "        # Use binary labels\n",
    "        class_mode='binary')\n",
    "\n",
    "validation_generator = validation_datagen.flow_from_directory(\n",
    "        'skin/test/',\n",
    "        classes = ['benign', 'malignant'],\n",
    "        target_size=(200, 200),\n",
    "        batch_size=82,\n",
    "        # Use binary labels\n",
    "        class_mode='binary',\n",
    "        shuffle=False)\n",
    "\n",
    "model = tf.keras.models.Sequential([\n",
    "    tf.keras.layers.Conv2D(16, (3,3), activation = 'relu', input_shape=(220, 220, 3)),\n",
    "    tf.keras.layers.MaxPooling2D(2, 2),\n",
    "    tf.keras.layers.Conv2D(32, (3,3), activation='relu'),\n",
    "    tf.keras.layers.MaxPooling2D(2,2),\n",
    "    tf.keras.layers.Conv2D(64, (3,3), activation = 'relu'),\n",
    "    tf.keras.layers.MaxPooling2D(2,2),\n",
    "    tf.keras.layers.Conv2D(64, (3,3), activation = 'relu'),\n",
    "    tf.keras.layers.MaxPooling2D(2,2),\n",
    "    tf.keras.layers.Conv2D(64, (3,3), activation ='relu'),\n",
    "    tf.keras.layers.MaxPooling2D(2,2),\n",
    "    tf.keras.layers.Flatten(),\n",
    "    tf.keras.layers.Dense(512, activation='relu'),\n",
    "    tf.keras.layers.Dense(1, activation='sigmoid')\n",
    "])\n",
    "# model = tf.keras.models.Sequential([tf.keras.layers.Flatten(input_shape = (200,200,3)), \n",
    "#                                     tf.keras.layers.Dense(128, activation=tf.nn.relu), \n",
    "#                                     tf.keras.layers.Dense(1, activation=tf.nn.sigmoid)])\n",
    "model.summary()"
   ]
  },
  {
   "cell_type": "code",
   "execution_count": null,
   "metadata": {},
   "outputs": [],
   "source": []
  },
  {
   "cell_type": "code",
   "execution_count": 72,
   "metadata": {},
   "outputs": [],
   "source": [
    "model.compile(loss='binary_crossentropy',\n",
    "optimizer='Adam', metrics='accuracy')"
   ]
  },
  {
   "cell_type": "code",
   "execution_count": 73,
   "metadata": {},
   "outputs": [
    {
     "name": "stdout",
     "output_type": "stream",
     "text": [
      "Epoch 1/10\n",
      "8/8 [==============================] - 35s 4s/step - loss: 0.6955 - accuracy: 0.5353 - val_loss: 0.6669 - val_accuracy: 0.5503\n",
      "Epoch 2/10\n",
      "8/8 [==============================] - 37s 5s/step - loss: 0.6450 - accuracy: 0.6138 - val_loss: 0.6261 - val_accuracy: 0.7149\n",
      "Epoch 3/10\n",
      "8/8 [==============================] - 30s 4s/step - loss: 0.5503 - accuracy: 0.7401 - val_loss: 0.4946 - val_accuracy: 0.7195\n",
      "Epoch 4/10\n",
      "8/8 [==============================] - 30s 4s/step - loss: 0.4940 - accuracy: 0.7565 - val_loss: 0.4678 - val_accuracy: 0.7652\n",
      "Epoch 5/10\n",
      "8/8 [==============================] - 28s 4s/step - loss: 0.4550 - accuracy: 0.7782 - val_loss: 0.4495 - val_accuracy: 0.7759\n",
      "Epoch 6/10\n",
      "8/8 [==============================] - 28s 3s/step - loss: 0.4807 - accuracy: 0.7657 - val_loss: 0.4356 - val_accuracy: 0.7790\n",
      "Epoch 7/10\n",
      "8/8 [==============================] - 28s 3s/step - loss: 0.4797 - accuracy: 0.7558 - val_loss: 0.5106 - val_accuracy: 0.7271\n",
      "Epoch 8/10\n",
      "8/8 [==============================] - 28s 3s/step - loss: 0.4774 - accuracy: 0.7649 - val_loss: 0.4389 - val_accuracy: 0.7866\n",
      "Epoch 9/10\n",
      "8/8 [==============================] - 37s 5s/step - loss: 0.4313 - accuracy: 0.7999 - val_loss: 0.4544 - val_accuracy: 0.7851\n",
      "Epoch 10/10\n",
      "8/8 [==============================] - 32s 4s/step - loss: 0.4364 - accuracy: 0.7928 - val_loss: 0.4335 - val_accuracy: 0.8018\n"
     ]
    }
   ],
   "source": [
    "history = model.fit_generator(train_generator, steps_per_epoch=8, epochs=10, verbose=1, validation_data=validation_generator, validation_steps=8)"
   ]
  },
  {
   "cell_type": "code",
   "execution_count": 74,
   "metadata": {},
   "outputs": [
    {
     "name": "stdout",
     "output_type": "stream",
     "text": [
      "9/9 [==============================] - 2s 202ms/step - loss: 0.4339 - accuracy: 0.8030\n"
     ]
    },
    {
     "data": {
      "text/plain": [
       "[0.43385910987854004, 0.8030303120613098]"
      ]
     },
     "execution_count": 74,
     "metadata": {},
     "output_type": "execute_result"
    }
   ],
   "source": [
    "model.evaluate(validation_generator)"
   ]
  },
  {
   "cell_type": "code",
   "execution_count": 77,
   "metadata": {},
   "outputs": [
    {
     "name": "stdout",
     "output_type": "stream",
     "text": [
      "9/9 [==============================] - 3s 269ms/step\n"
     ]
    }
   ],
   "source": [
    "STEP_SIZE_TEST=validation_generator.n//validation_generator.batch_size\n",
    "validation_generator.reset()\n",
    "preds = model.predict(validation_generator,\n",
    "                      verbose=1)\n",
    "fpr, tpr, _ = roc_curve(validation_generator.classes, preds)\n",
    "roc_auc = auc(fpr, tpr)"
   ]
  },
  {
   "cell_type": "code",
   "execution_count": 80,
   "metadata": {},
   "outputs": [
    {
     "data": {
      "image/png": "[encoded data removed]",
      "text/plain": [
       "<Figure size 432x288 with 1 Axes>"
      ]
     },
     "metadata": {
      "needs_background": "light"
     },
     "output_type": "display_data"
    }
   ],
   "source": [
    "plt.figure()\n",
    "lw = 2\n",
    "plt.plot(fpr, tpr, color='darkorange',\n",
    "         lw=lw, label='ROC curve (area = %0.2f)' % roc_auc)\n",
    "plt.plot([0, 1], [0, 1], color='navy', lw=lw, linestyle='--')\n",
    "plt.xlim([0.0, 1.0])\n",
    "plt.ylim([0.0, 1.05])\n",
    "plt.xlabel('False Positive Rate')\n",
    "plt.ylabel('True Positive Rate')\n",
    "plt.title('Receiver Operating Characteristic')\n",
    "plt.legend(loc=\"lower right\")\n",
    "plt.show()"
   ]
  },
  {
   "cell_type": "code",
   "execution_count": null,
   "metadata": {},
   "outputs": [],
   "source": []
  }
 ],
 "metadata": {
  "kernelspec": {
   "display_name": "Python 3",
   "language": "python",
   "name": "python3"
  },
  "language_info": {
   "codemirror_mode": {
    "name": "ipython",
    "version": 3
   },
   "file_extension": ".py",
   "mimetype": "text/x-python",
   "name": "python",
   "nbconvert_exporter": "python",
   "pygments_lexer": "ipython3",
   "version": "3.7.4"
  }
 },
 "nbformat": 4,
 "nbformat_minor": 2
}
